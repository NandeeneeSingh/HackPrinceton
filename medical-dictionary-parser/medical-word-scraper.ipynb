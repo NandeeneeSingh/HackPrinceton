{
 "cells": [
  {
   "cell_type": "code",
   "execution_count": 1,
   "metadata": {},
   "outputs": [],
   "source": [
    "from bs4 import BeautifulSoup\n",
    "import glob\n",
    "import os"
   ]
  },
  {
   "cell_type": "code",
   "execution_count": 2,
   "metadata": {},
   "outputs": [],
   "source": [
    "med_dict = dict()"
   ]
  },
  {
   "cell_type": "code",
   "execution_count": 3,
   "metadata": {},
   "outputs": [],
   "source": [
    "for file_name in glob.glob(\"./*.html\"):\n",
    "    with open(file_name) as medical_html_file:\n",
    "        soup = BeautifulSoup(medical_html_file, 'html.parser')\n",
    "        for paragraph in soup.find_all(\"p\"):\n",
    "            if any(map(lambda child : child.name, paragraph.contents)) and len(paragraph.contents) == 2:\n",
    "                name = list(filter(None, paragraph.contents[0].contents[-1].strip().split(\":\")))[0]\n",
    "                definition = str(paragraph.contents[1])\n",
    "                med_dict[name] = definition"
   ]
  },
  {
   "cell_type": "code",
   "execution_count": 6,
   "metadata": {},
   "outputs": [],
   "source": [
    "import json\n",
    "with open(\"medical_dictionary.json\", \"w\") as output_file:\n",
    "    json.dump(med_dict, output_file)"
   ]
  },
  {
   "cell_type": "code",
   "execution_count": null,
   "metadata": {},
   "outputs": [],
   "source": []
  }
 ],
 "metadata": {
  "kernelspec": {
   "display_name": ".venv",
   "language": "python",
   "name": "python3"
  },
  "language_info": {
   "codemirror_mode": {
    "name": "ipython",
    "version": 3
   },
   "file_extension": ".py",
   "mimetype": "text/x-python",
   "name": "python",
   "nbconvert_exporter": "python",
   "pygments_lexer": "ipython3",
   "version": "3.12.6"
  }
 },
 "nbformat": 4,
 "nbformat_minor": 2
}
